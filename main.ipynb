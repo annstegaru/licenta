{
 "cells": [
  {
   "cell_type": "code",
   "execution_count": 1,
   "metadata": {},
   "outputs": [],
   "source": [
    "import matplotlib.pyplot as plt\n",
    "import numpy as np\n",
    "import pandas as pd\n",
    "import scipy.io as sio\n",
    "from sklearn.model_selection import train_test_split\n",
    "from scipy.signal import butter, filtfilt, iirnotch,welch\n",
    "from scipy.stats import kurtosis, skew\n",
    "import pywt\n",
    "from sklearn.svm import SVC\n",
    "from sklearn.metrics import accuracy_score\n",
    "from sklearn.neighbors import KNeighborsClassifier\n",
    "from sklearn.model_selection import GridSearchCV, cross_val_score\n",
    "from sklearn.ensemble import RandomForestClassifier\n",
    "from sklearn.neural_network import MLPClassifier\n",
    "import xgboost as xgb\n"
   ]
  },
  {
   "cell_type": "code",
   "execution_count": 2,
   "metadata": {},
   "outputs": [],
   "source": [
    "volunteers = [\"1\", \"2\", \"3\", \"4\", \"5\", \"6\"]\n",
    "labels = [\"A\", \"B\"]\n",
    "stimuli = ['1', '5', '10', '15', '20', '25', '30']\n",
    "electrodes = ['FP1', 'FP2', 'PG1', 'PG2', 'F7', 'F3', 'F2', 'F4', 'F8', 'C3', 'C2', 'C4', 'P3', 'P4', 'P2', 'T3', 'T4', 'T5', 'T6', 'O1', 'OZ', 'O2','ECG']"
   ]
  },
  {
   "cell_type": "code",
   "execution_count": 3,
   "metadata": {},
   "outputs": [
    {
     "name": "stdout",
     "output_type": "stream",
     "text": [
      "12 12 12 12 12 12 12\n"
     ]
    }
   ],
   "source": [
    "import re\n",
    "import glob\n",
    "\n",
    "path = 'Dataset\\CSV'\n",
    "csv_files = glob.glob(path + '/*.csv')\n",
    "sig1Hz = []\n",
    "sig5Hz = []\n",
    "sig10Hz = []\n",
    "sig15Hz = []\n",
    "sig20Hz = []\n",
    "sig25Hz = []\n",
    "sig30Hz = []\n",
    "for file in csv_files:\n",
    "    match = re.search(r'V\\d+_[AB]_\\d+', file)\n",
    "    if match:\n",
    "        identifier = match.group(0)\n",
    "\n",
    "        if '_5' in identifier:\n",
    "            sig5Hz.append(file)\n",
    "        elif '_10' in identifier:\n",
    "            sig10Hz.append(file)\n",
    "        elif '_15' in identifier:\n",
    "            sig15Hz.append(file)\n",
    "        elif '_20' in identifier:\n",
    "            sig20Hz.append(file)\n",
    "        elif '_25' in identifier:\n",
    "            sig25Hz.append(file)\n",
    "        elif '_30' in identifier:\n",
    "            sig30Hz.append(file)\n",
    "        elif '_1' in identifier:\n",
    "            sig1Hz.append(file)\n",
    "\n",
    "print(len(sig1Hz), len(sig5Hz), len(sig10Hz),len(sig15Hz),len(sig20Hz),len(sig25Hz),len(sig30Hz))\n"
   ]
  },
  {
   "cell_type": "code",
   "execution_count": 4,
   "metadata": {},
   "outputs": [
    {
     "data": {
      "text/plain": [
       "['Dataset\\\\CSV\\\\V1_A_1.csv',\n",
       " 'Dataset\\\\CSV\\\\V1_B_1.csv',\n",
       " 'Dataset\\\\CSV\\\\V2_A_1.csv',\n",
       " 'Dataset\\\\CSV\\\\V2_B_1.csv',\n",
       " 'Dataset\\\\CSV\\\\V3_A_1.csv',\n",
       " 'Dataset\\\\CSV\\\\V3_B_1.csv',\n",
       " 'Dataset\\\\CSV\\\\V4_A_1.csv',\n",
       " 'Dataset\\\\CSV\\\\V4_B_1.csv',\n",
       " 'Dataset\\\\CSV\\\\V5_A_1.csv',\n",
       " 'Dataset\\\\CSV\\\\V5_B_1.csv',\n",
       " 'Dataset\\\\CSV\\\\V6_A_1.csv',\n",
       " 'Dataset\\\\CSV\\\\V6_B_1.csv']"
      ]
     },
     "execution_count": 4,
     "metadata": {},
     "output_type": "execute_result"
    }
   ],
   "source": [
    "sig1Hz"
   ]
  },
  {
   "cell_type": "code",
   "execution_count": 5,
   "metadata": {},
   "outputs": [],
   "source": [
    "def load_data(files):\n",
    "    dfs = []\n",
    "    for file in files:\n",
    "        df = pd.read_csv(file)\n",
    "        df = df.drop(columns='ECG')\n",
    "        df = df.T\n",
    "        \n",
    "        target = 1 if \"A\" in file else 0\n",
    "        df[\"target\"] = target\n",
    "\n",
    "        dfs.append(df)\n",
    "    return pd.concat(dfs, ignore_index=True)\n",
    "\n",
    "# Load the DataFrames for each frequency category\n",
    "df_sig1Hz = load_data(sig1Hz)\n",
    "df_sig5Hz = load_data(sig5Hz)\n",
    "df_sig10Hz = load_data(sig10Hz)\n",
    "df_sig15Hz = load_data(sig15Hz)\n",
    "df_sig20Hz = load_data(sig20Hz)\n",
    "df_sig25Hz = load_data(sig25Hz)\n",
    "df_sig30Hz = load_data(sig30Hz)"
   ]
  },
  {
   "cell_type": "code",
   "execution_count": 6,
   "metadata": {},
   "outputs": [
    {
     "name": "stdout",
     "output_type": "stream",
     "text": [
      "Epoch 1 shape: (264, 1024)\n",
      "Epoch 2 shape: (264, 1024)\n",
      "Epoch 3 shape: (264, 1024)\n",
      "Epoch 4 shape: (264, 1024)\n",
      "Epoch 5 shape: (264, 1024)\n"
     ]
    }
   ],
   "source": [
    "def split_into_epochs(data, epoch_length):\n",
    "    num_epochs = data.shape[1] // epoch_length\n",
    "    epochs = np.array_split(data[:, :num_epochs * epoch_length], num_epochs, axis=1)\n",
    "    return epochs\n",
    "\n",
    "\n",
    "# Convert df_sig1Hz to a NumPy array\n",
    "data_array = df_sig1Hz.iloc[:,:-1] .to_numpy()\n",
    "\n",
    "# Define the epoch length in data points\n",
    "epoch_length = 4 * 256 \n",
    "\n",
    "# Split the data into epochs\n",
    "epochs = split_into_epochs(data_array, epoch_length)\n",
    "\n",
    "# Print the shape of each epoch\n",
    "for i, epoch in enumerate(epochs):\n",
    "    print(f\"Epoch {i+1} shape: {epoch.shape}\")"
   ]
  },
  {
   "cell_type": "code",
   "execution_count": 7,
   "metadata": {},
   "outputs": [
    {
     "data": {
      "text/html": [
       "<div>\n",
       "<style scoped>\n",
       "    .dataframe tbody tr th:only-of-type {\n",
       "        vertical-align: middle;\n",
       "    }\n",
       "\n",
       "    .dataframe tbody tr th {\n",
       "        vertical-align: top;\n",
       "    }\n",
       "\n",
       "    .dataframe thead th {\n",
       "        text-align: right;\n",
       "    }\n",
       "</style>\n",
       "<table border=\"1\" class=\"dataframe\">\n",
       "  <thead>\n",
       "    <tr style=\"text-align: right;\">\n",
       "      <th></th>\n",
       "      <th>0</th>\n",
       "      <th>1</th>\n",
       "      <th>2</th>\n",
       "      <th>3</th>\n",
       "      <th>4</th>\n",
       "      <th>5</th>\n",
       "      <th>6</th>\n",
       "      <th>7</th>\n",
       "      <th>8</th>\n",
       "      <th>9</th>\n",
       "      <th>...</th>\n",
       "      <th>5111</th>\n",
       "      <th>5112</th>\n",
       "      <th>5113</th>\n",
       "      <th>5114</th>\n",
       "      <th>5115</th>\n",
       "      <th>5116</th>\n",
       "      <th>5117</th>\n",
       "      <th>5118</th>\n",
       "      <th>5119</th>\n",
       "      <th>target</th>\n",
       "    </tr>\n",
       "  </thead>\n",
       "  <tbody>\n",
       "    <tr>\n",
       "      <th>0</th>\n",
       "      <td>-26</td>\n",
       "      <td>-14</td>\n",
       "      <td>3</td>\n",
       "      <td>21</td>\n",
       "      <td>36</td>\n",
       "      <td>47</td>\n",
       "      <td>54</td>\n",
       "      <td>52</td>\n",
       "      <td>43</td>\n",
       "      <td>31</td>\n",
       "      <td>...</td>\n",
       "      <td>19</td>\n",
       "      <td>30</td>\n",
       "      <td>28</td>\n",
       "      <td>26</td>\n",
       "      <td>33</td>\n",
       "      <td>48</td>\n",
       "      <td>67</td>\n",
       "      <td>88</td>\n",
       "      <td>105</td>\n",
       "      <td>1</td>\n",
       "    </tr>\n",
       "    <tr>\n",
       "      <th>1</th>\n",
       "      <td>-21</td>\n",
       "      <td>-5</td>\n",
       "      <td>11</td>\n",
       "      <td>29</td>\n",
       "      <td>46</td>\n",
       "      <td>60</td>\n",
       "      <td>71</td>\n",
       "      <td>75</td>\n",
       "      <td>73</td>\n",
       "      <td>64</td>\n",
       "      <td>...</td>\n",
       "      <td>47</td>\n",
       "      <td>56</td>\n",
       "      <td>53</td>\n",
       "      <td>51</td>\n",
       "      <td>58</td>\n",
       "      <td>72</td>\n",
       "      <td>89</td>\n",
       "      <td>104</td>\n",
       "      <td>109</td>\n",
       "      <td>1</td>\n",
       "    </tr>\n",
       "    <tr>\n",
       "      <th>2</th>\n",
       "      <td>12</td>\n",
       "      <td>19</td>\n",
       "      <td>23</td>\n",
       "      <td>26</td>\n",
       "      <td>29</td>\n",
       "      <td>32</td>\n",
       "      <td>37</td>\n",
       "      <td>39</td>\n",
       "      <td>36</td>\n",
       "      <td>26</td>\n",
       "      <td>...</td>\n",
       "      <td>31</td>\n",
       "      <td>43</td>\n",
       "      <td>41</td>\n",
       "      <td>35</td>\n",
       "      <td>33</td>\n",
       "      <td>33</td>\n",
       "      <td>35</td>\n",
       "      <td>41</td>\n",
       "      <td>46</td>\n",
       "      <td>1</td>\n",
       "    </tr>\n",
       "    <tr>\n",
       "      <th>3</th>\n",
       "      <td>-48</td>\n",
       "      <td>-25</td>\n",
       "      <td>-2</td>\n",
       "      <td>21</td>\n",
       "      <td>40</td>\n",
       "      <td>57</td>\n",
       "      <td>70</td>\n",
       "      <td>76</td>\n",
       "      <td>70</td>\n",
       "      <td>55</td>\n",
       "      <td>...</td>\n",
       "      <td>37</td>\n",
       "      <td>68</td>\n",
       "      <td>84</td>\n",
       "      <td>96</td>\n",
       "      <td>111</td>\n",
       "      <td>125</td>\n",
       "      <td>136</td>\n",
       "      <td>142</td>\n",
       "      <td>139</td>\n",
       "      <td>1</td>\n",
       "    </tr>\n",
       "    <tr>\n",
       "      <th>4</th>\n",
       "      <td>-39</td>\n",
       "      <td>-17</td>\n",
       "      <td>8</td>\n",
       "      <td>32</td>\n",
       "      <td>51</td>\n",
       "      <td>64</td>\n",
       "      <td>70</td>\n",
       "      <td>67</td>\n",
       "      <td>57</td>\n",
       "      <td>44</td>\n",
       "      <td>...</td>\n",
       "      <td>-23</td>\n",
       "      <td>-5</td>\n",
       "      <td>4</td>\n",
       "      <td>12</td>\n",
       "      <td>27</td>\n",
       "      <td>47</td>\n",
       "      <td>70</td>\n",
       "      <td>90</td>\n",
       "      <td>107</td>\n",
       "      <td>1</td>\n",
       "    </tr>\n",
       "    <tr>\n",
       "      <th>...</th>\n",
       "      <td>...</td>\n",
       "      <td>...</td>\n",
       "      <td>...</td>\n",
       "      <td>...</td>\n",
       "      <td>...</td>\n",
       "      <td>...</td>\n",
       "      <td>...</td>\n",
       "      <td>...</td>\n",
       "      <td>...</td>\n",
       "      <td>...</td>\n",
       "      <td>...</td>\n",
       "      <td>...</td>\n",
       "      <td>...</td>\n",
       "      <td>...</td>\n",
       "      <td>...</td>\n",
       "      <td>...</td>\n",
       "      <td>...</td>\n",
       "      <td>...</td>\n",
       "      <td>...</td>\n",
       "      <td>...</td>\n",
       "      <td>...</td>\n",
       "    </tr>\n",
       "    <tr>\n",
       "      <th>259</th>\n",
       "      <td>-21</td>\n",
       "      <td>-24</td>\n",
       "      <td>-25</td>\n",
       "      <td>-23</td>\n",
       "      <td>-20</td>\n",
       "      <td>-18</td>\n",
       "      <td>-17</td>\n",
       "      <td>-16</td>\n",
       "      <td>-13</td>\n",
       "      <td>-7</td>\n",
       "      <td>...</td>\n",
       "      <td>-16</td>\n",
       "      <td>-16</td>\n",
       "      <td>-12</td>\n",
       "      <td>-6</td>\n",
       "      <td>3</td>\n",
       "      <td>13</td>\n",
       "      <td>22</td>\n",
       "      <td>29</td>\n",
       "      <td>35</td>\n",
       "      <td>0</td>\n",
       "    </tr>\n",
       "    <tr>\n",
       "      <th>260</th>\n",
       "      <td>-22</td>\n",
       "      <td>-24</td>\n",
       "      <td>-21</td>\n",
       "      <td>-17</td>\n",
       "      <td>-14</td>\n",
       "      <td>-13</td>\n",
       "      <td>-15</td>\n",
       "      <td>-17</td>\n",
       "      <td>-17</td>\n",
       "      <td>-13</td>\n",
       "      <td>...</td>\n",
       "      <td>-10</td>\n",
       "      <td>-8</td>\n",
       "      <td>-3</td>\n",
       "      <td>4</td>\n",
       "      <td>11</td>\n",
       "      <td>16</td>\n",
       "      <td>19</td>\n",
       "      <td>19</td>\n",
       "      <td>17</td>\n",
       "      <td>0</td>\n",
       "    </tr>\n",
       "    <tr>\n",
       "      <th>261</th>\n",
       "      <td>-8</td>\n",
       "      <td>-19</td>\n",
       "      <td>-24</td>\n",
       "      <td>-27</td>\n",
       "      <td>-29</td>\n",
       "      <td>-31</td>\n",
       "      <td>-34</td>\n",
       "      <td>-36</td>\n",
       "      <td>-33</td>\n",
       "      <td>-23</td>\n",
       "      <td>...</td>\n",
       "      <td>-57</td>\n",
       "      <td>-61</td>\n",
       "      <td>-58</td>\n",
       "      <td>-50</td>\n",
       "      <td>-36</td>\n",
       "      <td>-18</td>\n",
       "      <td>1</td>\n",
       "      <td>19</td>\n",
       "      <td>33</td>\n",
       "      <td>0</td>\n",
       "    </tr>\n",
       "    <tr>\n",
       "      <th>262</th>\n",
       "      <td>-20</td>\n",
       "      <td>-25</td>\n",
       "      <td>-26</td>\n",
       "      <td>-24</td>\n",
       "      <td>-23</td>\n",
       "      <td>-24</td>\n",
       "      <td>-25</td>\n",
       "      <td>-27</td>\n",
       "      <td>-25</td>\n",
       "      <td>-18</td>\n",
       "      <td>...</td>\n",
       "      <td>-45</td>\n",
       "      <td>-45</td>\n",
       "      <td>-38</td>\n",
       "      <td>-26</td>\n",
       "      <td>-10</td>\n",
       "      <td>6</td>\n",
       "      <td>21</td>\n",
       "      <td>33</td>\n",
       "      <td>41</td>\n",
       "      <td>0</td>\n",
       "    </tr>\n",
       "    <tr>\n",
       "      <th>263</th>\n",
       "      <td>8</td>\n",
       "      <td>0</td>\n",
       "      <td>-3</td>\n",
       "      <td>-4</td>\n",
       "      <td>-6</td>\n",
       "      <td>-10</td>\n",
       "      <td>-14</td>\n",
       "      <td>-19</td>\n",
       "      <td>-18</td>\n",
       "      <td>-10</td>\n",
       "      <td>...</td>\n",
       "      <td>-70</td>\n",
       "      <td>-71</td>\n",
       "      <td>-65</td>\n",
       "      <td>-53</td>\n",
       "      <td>-35</td>\n",
       "      <td>-15</td>\n",
       "      <td>4</td>\n",
       "      <td>20</td>\n",
       "      <td>31</td>\n",
       "      <td>0</td>\n",
       "    </tr>\n",
       "  </tbody>\n",
       "</table>\n",
       "<p>264 rows × 5121 columns</p>\n",
       "</div>"
      ],
      "text/plain": [
       "      0   1   2   3   4   5   6   7   8   9  ...  5111  5112  5113  5114   \n",
       "0   -26 -14   3  21  36  47  54  52  43  31  ...    19    30    28    26  \\\n",
       "1   -21  -5  11  29  46  60  71  75  73  64  ...    47    56    53    51   \n",
       "2    12  19  23  26  29  32  37  39  36  26  ...    31    43    41    35   \n",
       "3   -48 -25  -2  21  40  57  70  76  70  55  ...    37    68    84    96   \n",
       "4   -39 -17   8  32  51  64  70  67  57  44  ...   -23    -5     4    12   \n",
       "..   ..  ..  ..  ..  ..  ..  ..  ..  ..  ..  ...   ...   ...   ...   ...   \n",
       "259 -21 -24 -25 -23 -20 -18 -17 -16 -13  -7  ...   -16   -16   -12    -6   \n",
       "260 -22 -24 -21 -17 -14 -13 -15 -17 -17 -13  ...   -10    -8    -3     4   \n",
       "261  -8 -19 -24 -27 -29 -31 -34 -36 -33 -23  ...   -57   -61   -58   -50   \n",
       "262 -20 -25 -26 -24 -23 -24 -25 -27 -25 -18  ...   -45   -45   -38   -26   \n",
       "263   8   0  -3  -4  -6 -10 -14 -19 -18 -10  ...   -70   -71   -65   -53   \n",
       "\n",
       "     5115  5116  5117  5118  5119  target  \n",
       "0      33    48    67    88   105       1  \n",
       "1      58    72    89   104   109       1  \n",
       "2      33    33    35    41    46       1  \n",
       "3     111   125   136   142   139       1  \n",
       "4      27    47    70    90   107       1  \n",
       "..    ...   ...   ...   ...   ...     ...  \n",
       "259     3    13    22    29    35       0  \n",
       "260    11    16    19    19    17       0  \n",
       "261   -36   -18     1    19    33       0  \n",
       "262   -10     6    21    33    41       0  \n",
       "263   -35   -15     4    20    31       0  \n",
       "\n",
       "[264 rows x 5121 columns]"
      ]
     },
     "execution_count": 7,
     "metadata": {},
     "output_type": "execute_result"
    }
   ],
   "source": [
    "df_sig1Hz"
   ]
  },
  {
   "cell_type": "code",
   "execution_count": 8,
   "metadata": {},
   "outputs": [
    {
     "data": {
      "text/plain": [
       "target\n",
       "1    132\n",
       "0    132\n",
       "Name: count, dtype: int64"
      ]
     },
     "execution_count": 8,
     "metadata": {},
     "output_type": "execute_result"
    }
   ],
   "source": [
    "label_counts = df_sig1Hz['target'].value_counts()\n",
    "label_counts #132 labels after + 132 labels before = 264 which is 22 channels * 12 subjects"
   ]
  },
  {
   "cell_type": "code",
   "execution_count": 9,
   "metadata": {},
   "outputs": [
    {
     "name": "stdout",
     "output_type": "stream",
     "text": [
      "(264, 5120) (264,)\n"
     ]
    }
   ],
   "source": [
    "X = df_sig1Hz.iloc[:,:-1] \n",
    "y = df_sig1Hz.iloc[:, -1]\n",
    "print(X.shape, y.shape)"
   ]
  },
  {
   "cell_type": "code",
   "execution_count": 10,
   "metadata": {},
   "outputs": [],
   "source": [
    "# Preprocessing functions\n",
    "def butterworth_filter(data, order, cutoff_freq, fs):\n",
    "    nyquist_freq = 0.5 * fs\n",
    "    normal_cutoff = cutoff_freq / nyquist_freq\n",
    "    b, a = butter(order, normal_cutoff, btype='low', analog=False)\n",
    "    filtered_data = filtfilt(b, a, data, axis=1)\n",
    "    return filtered_data\n",
    "\n",
    "def notch_filter(data, notch_freq, q_factor, fs):\n",
    "    b, a = iirnotch(notch_freq, q_factor, fs=fs)\n",
    "    filtered_data = filtfilt(b, a, data, axis=1)\n",
    "    return filtered_data\n",
    "\n",
    "def extract_time_domain_features(data):\n",
    "    features = []\n",
    "    features.append(np.mean(data, axis=1))\n",
    "    features.append(np.std(data, axis=1))\n",
    "    features.append(np.min(data, axis=1))\n",
    "    features.append(np.max(data, axis=1))\n",
    "    features.append(kurtosis(data, axis=1))\n",
    "    features.append(skew(data, axis=1))\n",
    "    return np.column_stack(features)\n",
    "\n",
    "def extract_frequency_domain_features(data, fs):\n",
    "    f, psd = welch(data, fs=fs)\n",
    "    spectral_entropy = -np.sum(psd * np.log2(psd + np.finfo(float).eps), axis=1)\n",
    "    return np.column_stack((psd, spectral_entropy))\n",
    "\n",
    "def hjorth_activity(signal):\n",
    "    return np.var(signal)\n",
    "\n",
    "def hjorth_mobility(signal):\n",
    "    return np.sqrt(np.var(np.diff(signal)) / np.var(signal))\n",
    "\n",
    "def hjorth_complexity(signal):\n",
    "    return hjorth_mobility(np.diff(signal)) / hjorth_mobility(signal)\n",
    "\n",
    "def second_diff_mean(signal):\n",
    "    return np.mean(np.abs(np.diff(np.diff(signal))))\n",
    "\n",
    "def second_diff_max(signal):\n",
    "    return np.max(np.abs(np.diff(np.diff(signal))))\n",
    "\n",
    "def coefficient_of_variation(signal):\n",
    "    return np.std(signal) / np.mean(signal)\n",
    "\n",
    "def first_diff_mean(signal):\n",
    "    return np.mean(np.abs(np.diff(signal)))\n",
    "\n",
    "def first_diff_max(signal):\n",
    "    return np.max(np.abs(np.diff(signal)))\n",
    "\n",
    "def wavelet_transform_features(signal):\n",
    "    coeffs = pywt.wavedec(signal, 'db4')  \n",
    "    features = []\n",
    "    for coeff in coeffs:\n",
    "        features.append(np.mean(coeff))\n",
    "        features.append(np.std(coeff))\n",
    "    return features\n",
    "\n",
    "def vertex_to_vertex_slope(signal):\n",
    "    v2v_slope = np.diff(signal)\n",
    "    return np.var(v2v_slope), np.mean(v2v_slope)\n",
    "\n",
    "def fft_features(signal):\n",
    "    fft_values = np.fft.fft(signal)\n",
    "    power_spectrum = np.abs(fft_values) ** 2\n",
    "    max_power = np.max(power_spectrum)\n",
    "    return max_power\n",
    "\n",
    "def shannon_entropy(signal):\n",
    "    normalized_signal = signal / np.sum(signal)\n",
    "    entropy = -np.sum(normalized_signal * np.log2(normalized_signal))\n",
    "    return entropy\n",
    "\n",
    "def entropy_spectral(signal):\n",
    "    fft_values = np.fft.fft(signal)\n",
    "    power_spectrum = np.abs(fft_values) ** 2\n",
    "    normalized_spectrum = power_spectrum / np.sum(power_spectrum)\n",
    "    entropy = -np.sum(normalized_spectrum * np.log2(normalized_spectrum))\n",
    "    return entropy\n"
   ]
  },
  {
   "cell_type": "code",
   "execution_count": 11,
   "metadata": {},
   "outputs": [],
   "source": [
    "def extract_features(X):\n",
    "    # Apply low-pass filter to X data\n",
    "    order_lp = 6\n",
    "    cutoff_freq_lp = 80\n",
    "    fs = 256\n",
    "    X_filtered = butterworth_filter(X, order_lp, cutoff_freq_lp, fs)\n",
    "\n",
    "    # Apply notch filter to X data\n",
    "    notch_freq = 50\n",
    "    q_factor = 30\n",
    "    X_filtered = notch_filter(X_filtered, notch_freq, q_factor, fs)\n",
    "\n",
    "    # Extract time domain features\n",
    "    time_features = extract_time_domain_features(X_filtered)\n",
    "\n",
    "    # Extract frequency domain features\n",
    "    freq_features = extract_frequency_domain_features(X_filtered, fs)\n",
    "\n",
    "    hjorth_activity_features = np.apply_along_axis(hjorth_activity, axis=1, arr=X_filtered)\n",
    "    hjorth_mobility_features = np.apply_along_axis(hjorth_mobility, axis=1, arr=X_filtered)\n",
    "    hjorth_complexity_features = np.apply_along_axis(hjorth_complexity, axis=1, arr=X_filtered)\n",
    "    second_diff_mean_features = np.apply_along_axis(second_diff_mean, axis=1, arr=X_filtered)\n",
    "    second_diff_max_features = np.apply_along_axis(second_diff_max, axis=1, arr=X_filtered)\n",
    "    coefficient_of_variation_features = np.apply_along_axis(coefficient_of_variation, axis=1, arr=X_filtered)\n",
    "    first_diff_mean_features = np.apply_along_axis(first_diff_mean, axis=1, arr=X_filtered)\n",
    "    first_diff_max_features = np.apply_along_axis(first_diff_max, axis=1, arr=X_filtered)\n",
    "    wavelet_transformed_features = np.apply_along_axis(wavelet_transform_features, axis=1, arr=X_filtered)\n",
    "    vertex_to_vertex_slope_features = np.apply_along_axis(vertex_to_vertex_slope, axis=1, arr=X_filtered)\n",
    "    shannon_entropy_features = np.apply_along_axis(shannon_entropy, axis=1, arr=X_filtered)\n",
    "    entropy_spectral_features = np.apply_along_axis(entropy_spectral, axis=1, arr=X_filtered)\n",
    "    fft_features_result = np.apply_along_axis(fft_features, axis=1, arr=X_filtered)\n",
    "\n",
    "    # Combine all features\n",
    "    features = np.concatenate(\n",
    "        (time_features, freq_features, hjorth_activity_features[:, None], hjorth_mobility_features[:, None],\n",
    "         hjorth_complexity_features[:, None], second_diff_mean_features[:, None], second_diff_max_features[:, None],\n",
    "         coefficient_of_variation_features[:, None], first_diff_mean_features[:, None], first_diff_max_features[:, None],\n",
    "         wavelet_transformed_features, vertex_to_vertex_slope_features, \n",
    "         shannon_entropy_features[:, None], entropy_spectral_features[:, None], fft_features_result[:, None]),\n",
    "        axis=1\n",
    "    )\n",
    "\n",
    "    features = np.nan_to_num(features, nan=0.0)\n",
    "\n",
    "    for i in range(features.shape[1]):\n",
    "        column_values = features[:, i]\n",
    "        mean = np.mean(column_values)\n",
    "        std_dev = np.std(column_values)\n",
    "        \n",
    "        if std_dev != 0:  # Avoid division by zero\n",
    "            features[:, i] = (column_values - mean) / std_dev\n",
    "        else:\n",
    "            features[:, i] = 0.0  # Set all values to zero if std_dev is zero\n",
    "        \n",
    "    return features"
   ]
  },
  {
   "cell_type": "code",
   "execution_count": 12,
   "metadata": {},
   "outputs": [],
   "source": [
    "def svm_classification(X_train, y_train, X_test, y_test):\n",
    "    # Create SVM classifier\n",
    "    svm_classifier = SVC()\n",
    "\n",
    "    # Train the SVM classifier\n",
    "    svm_classifier.fit(X_train, y_train)\n",
    "\n",
    "    # Make predictions on the test set\n",
    "    y_pred = svm_classifier.predict(X_test)\n",
    "\n",
    "    # Calculate test accuracy\n",
    "    test_accuracy = accuracy_score(y_test, y_pred) * 100\n",
    "    print(\"SVM Accuracy:\", test_accuracy)\n",
    "    print()\n",
    "    return test_accuracy"
   ]
  },
  {
   "cell_type": "code",
   "execution_count": 13,
   "metadata": {},
   "outputs": [],
   "source": [
    "def knn_classification(X_train, y_train, X_test, y_test):   \n",
    "    # Create KNN classifier\n",
    "    knn_classifier = KNeighborsClassifier()\n",
    "\n",
    "    # Define hyperparameters to tune\n",
    "    param_grid = {'n_neighbors': [3, 5, 7, 9], 'weights': ['uniform', 'distance']}\n",
    "\n",
    "    # Perform grid search with cross-validation\n",
    "    grid_search = GridSearchCV(knn_classifier, param_grid, cv=5)\n",
    "    grid_search.fit(X_train, y_train)\n",
    "\n",
    "    # Get the best hyperparameters\n",
    "    best_params = grid_search.best_params_\n",
    "    print(\"Best Hyperparameters:\", best_params)\n",
    "\n",
    "    # Train the KNN classifier with the best hyperparameters\n",
    "    knn_classifier = KNeighborsClassifier(**best_params)\n",
    "    knn_classifier.fit(X_train, y_train)\n",
    "\n",
    "    # Make predictions on the test set\n",
    "    y_pred = knn_classifier.predict(X_test)\n",
    "\n",
    "    # Calculate test accuracy\n",
    "    test_accuracy = accuracy_score(y_test, y_pred) * 100\n",
    "    print(\"KNN Accuracy:\", test_accuracy)\n"
   ]
  },
  {
   "cell_type": "code",
   "execution_count": 14,
   "metadata": {},
   "outputs": [],
   "source": [
    "def mlp_classification(X_train, y_train, X_test, y_test):\n",
    "    # Create MLP classifier\n",
    "    mlp_classifier = MLPClassifier(max_iter=500)\n",
    "\n",
    "    # Define hyperparameters to tune\n",
    "    param_grid = {\n",
    "        'hidden_layer_sizes': [(50,), (100,), (50, 50), (100, 100)],\n",
    "        'activation': ['relu', 'tanh'],\n",
    "        'solver': ['adam'],\n",
    "        'alpha': [0.0001, 0.001, 0.01],\n",
    "        'learning_rate': ['constant', 'adaptive']\n",
    "    }\n",
    "\n",
    "    # Perform grid search with cross-validation\n",
    "    grid_search = GridSearchCV(mlp_classifier, param_grid, cv=5)\n",
    "    grid_search.fit(X_train, y_train)\n",
    "\n",
    "    # Get the best hyperparameters\n",
    "    best_params = grid_search.best_params_\n",
    "    print()\n",
    "    print(\"Best Hyperparameters:\", best_params)\n",
    "\n",
    "    # Train the MLP classifier with the best hyperparameters\n",
    "    mlp_classifier = MLPClassifier(**best_params)\n",
    "    mlp_classifier.fit(X_train, y_train)\n",
    "\n",
    "    # Make predictions on the test set\n",
    "    y_pred = mlp_classifier.predict(X_test)\n",
    "\n",
    "    # Calculate test accuracy\n",
    "    test_accuracy = accuracy_score(y_test, y_pred) * 100\n",
    "    print(\"MLP Accuracy:\", test_accuracy)\n",
    "    return test_accuracy"
   ]
  },
  {
   "cell_type": "code",
   "execution_count": 15,
   "metadata": {},
   "outputs": [],
   "source": [
    "def gradient_boosting_classification(X_train, y_train, X_test, y_test):\n",
    "    # Create DMatrix for XGBoost\n",
    "    dtrain = xgb.DMatrix(X_train, label=y_train)\n",
    "    dtest = xgb.DMatrix(X_test, label=y_test)\n",
    "\n",
    "    # Set hyperparameters for Gradient Boosting\n",
    "    params = {\n",
    "        'objective': 'multi:softmax',  # Classification objective\n",
    "        'num_class': len(np.unique(y_train)),  # Number of classes\n",
    "        'eval_metric': 'merror'  # Evaluation metric\n",
    "    }\n",
    "\n",
    "    # Train the model\n",
    "    num_rounds = 100  # Number of boosting rounds\n",
    "    bst = xgb.train(params, dtrain, num_rounds)\n",
    "\n",
    "    # Make predictions on the test set\n",
    "    y_pred = bst.predict(dtest)\n",
    "\n",
    "    # Convert predicted labels to integers\n",
    "    y_pred = y_pred.astype(int)\n",
    "\n",
    "    # Calculate test accuracy\n",
    "    test_accuracy = accuracy_score(y_test, y_pred) * 100\n",
    "    print(\"Gradient Boosting Accuracy:\", test_accuracy)\n",
    "    return test_accuracy"
   ]
  },
  {
   "cell_type": "code",
   "execution_count": 16,
   "metadata": {},
   "outputs": [],
   "source": [
    "def random_forest_classification(X_train, y_train, X_test, y_test):\n",
    "    # Define the parameter grid for hyperparameter tuning\n",
    "    param_grid = {\n",
    "        'n_estimators': [100, 200, 300],\n",
    "        'max_depth': [None, 5, 10],\n",
    "        'min_samples_split': [2, 5, 10],\n",
    "        'max_features': ['sqrt', 'log2']\n",
    "    }\n",
    "\n",
    "    # Create the Random Forest classifier\n",
    "    rf_classifier = RandomForestClassifier(random_state=42)\n",
    "\n",
    "    # Perform hyperparameter tuning using GridSearchCV\n",
    "    grid_search = GridSearchCV(rf_classifier, param_grid, cv=5)\n",
    "    grid_search.fit(X_train, y_train)\n",
    "\n",
    "    # Get the best hyperparameters\n",
    "    best_params = grid_search.best_params_\n",
    "    print()\n",
    "    print(\"Best Hyperparameters:\", best_params)\n",
    "\n",
    "    # Train the Random Forest classifier with the best hyperparameters\n",
    "    rf_classifier = RandomForestClassifier(\n",
    "        n_estimators=best_params['n_estimators'],\n",
    "        max_depth=best_params['max_depth'],\n",
    "        min_samples_split=best_params['min_samples_split'],\n",
    "        max_features=best_params['max_features'],\n",
    "        random_state=42\n",
    "    )\n",
    "    rf_classifier.fit(X_train, y_train)\n",
    "\n",
    "    # Make predictions on the test set\n",
    "    y_pred = rf_classifier.predict(X_test)\n",
    "\n",
    "    # Calculate test accuracy\n",
    "    test_accuracy = accuracy_score(y_test, y_pred) * 100\n",
    "    print(\"Random Forest Accuracy:\", test_accuracy)\n",
    "\n",
    "    return test_accuracy\n"
   ]
  },
  {
   "cell_type": "code",
   "execution_count": 17,
   "metadata": {},
   "outputs": [
    {
     "name": "stderr",
     "output_type": "stream",
     "text": [
      "C:\\Users\\anne_\\AppData\\Local\\Temp\\ipykernel_11556\\1923949949.py:73: RuntimeWarning: invalid value encountered in log2\n",
      "  entropy = -np.sum(normalized_signal * np.log2(normalized_signal))\n"
     ]
    },
    {
     "name": "stdout",
     "output_type": "stream",
     "text": [
      "SVM Accuracy: 92.45283018867924\n",
      "\n",
      "Best Hyperparameters: {'n_neighbors': 5, 'weights': 'uniform'}\n",
      "KNN Accuracy: 94.33962264150944\n",
      "\n",
      "Best Hyperparameters: {'activation': 'relu', 'alpha': 0.0001, 'hidden_layer_sizes': (100,), 'learning_rate': 'constant', 'solver': 'adam'}\n"
     ]
    },
    {
     "name": "stderr",
     "output_type": "stream",
     "text": [
      "c:\\Python311\\Lib\\site-packages\\sklearn\\neural_network\\_multilayer_perceptron.py:686: ConvergenceWarning: Stochastic Optimizer: Maximum iterations (200) reached and the optimization hasn't converged yet.\n",
      "  warnings.warn(\n"
     ]
    },
    {
     "name": "stdout",
     "output_type": "stream",
     "text": [
      "MLP Accuracy: 98.11320754716981\n",
      "Gradient Boosting Accuracy: 94.33962264150944\n",
      "\n",
      "Best Hyperparameters: {'max_depth': None, 'max_features': 'sqrt', 'min_samples_split': 2, 'n_estimators': 100}\n",
      "Random Forest Accuracy: 98.11320754716981\n"
     ]
    },
    {
     "data": {
      "text/plain": [
       "98.11320754716981"
      ]
     },
     "execution_count": 17,
     "metadata": {},
     "output_type": "execute_result"
    }
   ],
   "source": [
    "X = df_sig1Hz.iloc[:, :-1]\n",
    "y = df_sig1Hz.iloc[:, -1]\n",
    "features = extract_features(X.values)\n",
    "X_train, X_test, y_train, y_test = train_test_split(features, y, test_size=0.2, random_state=42)\n",
    "svm_classification(X_train, y_train, X_test, y_test)\n",
    "knn_classification(X_train, y_train, X_test, y_test)\n",
    "mlp_classification(X_train, y_train, X_test, y_test)\n",
    "gradient_boosting_classification(X_train, y_train, X_test, y_test)\n",
    "random_forest_classification(X_train, y_train, X_test, y_test)"
   ]
  },
  {
   "cell_type": "code",
   "execution_count": 18,
   "metadata": {},
   "outputs": [
    {
     "name": "stderr",
     "output_type": "stream",
     "text": [
      "C:\\Users\\anne_\\AppData\\Local\\Temp\\ipykernel_11556\\1923949949.py:73: RuntimeWarning: invalid value encountered in log2\n",
      "  entropy = -np.sum(normalized_signal * np.log2(normalized_signal))\n"
     ]
    },
    {
     "name": "stdout",
     "output_type": "stream",
     "text": [
      "SVM Accuracy: 86.79245283018868\n",
      "\n",
      "Best Hyperparameters: {'n_neighbors': 3, 'weights': 'uniform'}\n",
      "KNN Accuracy: 98.11320754716981\n",
      "\n",
      "Best Hyperparameters: {'activation': 'relu', 'alpha': 0.01, 'hidden_layer_sizes': (50,), 'learning_rate': 'adaptive', 'solver': 'adam'}\n",
      "MLP Accuracy: 96.22641509433963\n"
     ]
    },
    {
     "name": "stderr",
     "output_type": "stream",
     "text": [
      "c:\\Python311\\Lib\\site-packages\\sklearn\\neural_network\\_multilayer_perceptron.py:686: ConvergenceWarning: Stochastic Optimizer: Maximum iterations (200) reached and the optimization hasn't converged yet.\n",
      "  warnings.warn(\n"
     ]
    },
    {
     "data": {
      "text/plain": [
       "96.22641509433963"
      ]
     },
     "execution_count": 18,
     "metadata": {},
     "output_type": "execute_result"
    }
   ],
   "source": [
    "# Split the data into features and labels\n",
    "X = df_sig5Hz.iloc[:, :-1]\n",
    "y = df_sig5Hz.iloc[:, -1]\n",
    "features = extract_features(X.values)\n",
    "X_train, X_test, y_train, y_test = train_test_split(features, y, test_size=0.2, random_state=42)\n",
    "svm_classification(X_train, y_train, X_test, y_test)\n",
    "knn_classification(X_train, y_train, X_test, y_test)\n",
    "mlp_classification(X_train, y_train, X_test, y_test)"
   ]
  },
  {
   "cell_type": "code",
   "execution_count": 19,
   "metadata": {},
   "outputs": [
    {
     "name": "stderr",
     "output_type": "stream",
     "text": [
      "C:\\Users\\anne_\\AppData\\Local\\Temp\\ipykernel_11556\\1923949949.py:73: RuntimeWarning: invalid value encountered in log2\n",
      "  entropy = -np.sum(normalized_signal * np.log2(normalized_signal))\n"
     ]
    },
    {
     "name": "stdout",
     "output_type": "stream",
     "text": [
      "SVM Accuracy: 94.33962264150944\n",
      "\n",
      "Best Hyperparameters: {'n_neighbors': 9, 'weights': 'uniform'}\n",
      "KNN Accuracy: 92.45283018867924\n"
     ]
    },
    {
     "name": "stderr",
     "output_type": "stream",
     "text": [
      "c:\\Python311\\Lib\\site-packages\\sklearn\\neural_network\\_multilayer_perceptron.py:693: UserWarning: Training interrupted by user.\n",
      "  warnings.warn(\"Training interrupted by user.\")\n",
      "c:\\Python311\\Lib\\site-packages\\sklearn\\neural_network\\_multilayer_perceptron.py:693: UserWarning: Training interrupted by user.\n",
      "  warnings.warn(\"Training interrupted by user.\")\n"
     ]
    }
   ],
   "source": [
    "# Split the data into features and labels\n",
    "X = df_sig10Hz.iloc[:, :-1]\n",
    "y = df_sig10Hz.iloc[:, -1]\n",
    "features = extract_features(X.values)\n",
    "X_train, X_test, y_train, y_test = train_test_split(features, y, test_size=0.2, random_state=42)\n",
    "svm_classification(X_train, y_train, X_test, y_test)\n",
    "knn_classification(X_train, y_train, X_test, y_test)\n",
    "mlp_classification(X_train, y_train, X_test, y_test)"
   ]
  },
  {
   "cell_type": "code",
   "execution_count": null,
   "metadata": {},
   "outputs": [
    {
     "name": "stderr",
     "output_type": "stream",
     "text": [
      "C:\\Users\\anne_\\AppData\\Local\\Temp\\ipykernel_5176\\1529826752.py:81: RuntimeWarning: invalid value encountered in log2\n",
      "  entropy = -np.sum(normalized_signal * np.log2(normalized_signal))\n"
     ]
    },
    {
     "name": "stdout",
     "output_type": "stream",
     "text": [
      "SVM Accuracy: 90.56603773584906\n",
      "\n",
      "Best Hyperparameters: {'n_neighbors': 5, 'weights': 'uniform'}\n",
      "KNN Accuracy: 98.11320754716981\n",
      "\n",
      "Best Hyperparameters: {'activation': 'relu', 'alpha': 0.0001, 'hidden_layer_sizes': (50,), 'learning_rate': 'adaptive', 'solver': 'adam'}\n",
      "MLP Accuracy: 100.0\n"
     ]
    },
    {
     "name": "stderr",
     "output_type": "stream",
     "text": [
      "c:\\Python311\\Lib\\site-packages\\sklearn\\neural_network\\_multilayer_perceptron.py:686: ConvergenceWarning: Stochastic Optimizer: Maximum iterations (200) reached and the optimization hasn't converged yet.\n",
      "  warnings.warn(\n"
     ]
    },
    {
     "data": {
      "text/plain": [
       "100.0"
      ]
     },
     "execution_count": 24,
     "metadata": {},
     "output_type": "execute_result"
    }
   ],
   "source": [
    "# Split the data into features and labels\n",
    "X = df_sig15Hz.iloc[:, :-1]\n",
    "y = df_sig15Hz.iloc[:, -1]\n",
    "features = extract_features(X.values)\n",
    "X_train, X_test, y_train, y_test = train_test_split(features, y, test_size=0.2, random_state=42)\n",
    "svm_classification(X_train, y_train, X_test, y_test)\n",
    "knn_classification(X_train, y_train, X_test, y_test)\n",
    "mlp_classification(X_train, y_train, X_test, y_test)"
   ]
  },
  {
   "cell_type": "code",
   "execution_count": null,
   "metadata": {},
   "outputs": [
    {
     "name": "stderr",
     "output_type": "stream",
     "text": [
      "C:\\Users\\anne_\\AppData\\Local\\Temp\\ipykernel_5176\\1529826752.py:81: RuntimeWarning: invalid value encountered in log2\n",
      "  entropy = -np.sum(normalized_signal * np.log2(normalized_signal))\n"
     ]
    },
    {
     "name": "stdout",
     "output_type": "stream",
     "text": [
      "SVM Accuracy: 86.79245283018868\n",
      "\n",
      "Best Hyperparameters: {'n_neighbors': 3, 'weights': 'uniform'}\n",
      "KNN Accuracy: 94.33962264150944\n",
      "\n",
      "Best Hyperparameters: {'activation': 'relu', 'alpha': 0.01, 'hidden_layer_sizes': (50,), 'learning_rate': 'adaptive', 'solver': 'adam'}\n",
      "MLP Accuracy: 98.11320754716981\n"
     ]
    },
    {
     "name": "stderr",
     "output_type": "stream",
     "text": [
      "c:\\Python311\\Lib\\site-packages\\sklearn\\neural_network\\_multilayer_perceptron.py:686: ConvergenceWarning: Stochastic Optimizer: Maximum iterations (200) reached and the optimization hasn't converged yet.\n",
      "  warnings.warn(\n"
     ]
    },
    {
     "data": {
      "text/plain": [
       "98.11320754716981"
      ]
     },
     "execution_count": 25,
     "metadata": {},
     "output_type": "execute_result"
    }
   ],
   "source": [
    "# Split the data into features and labels\n",
    "X = df_sig20Hz.iloc[:, :-1]\n",
    "y = df_sig20Hz.iloc[:, -1]\n",
    "features = extract_features(X.values)\n",
    "X_train, X_test, y_train, y_test = train_test_split(features, y, test_size=0.2, random_state=42)\n",
    "svm_classification(X_train, y_train, X_test, y_test)\n",
    "knn_classification(X_train, y_train, X_test, y_test)\n",
    "mlp_classification(X_train, y_train, X_test, y_test)"
   ]
  },
  {
   "cell_type": "code",
   "execution_count": null,
   "metadata": {},
   "outputs": [
    {
     "name": "stderr",
     "output_type": "stream",
     "text": [
      "C:\\Users\\anne_\\AppData\\Local\\Temp\\ipykernel_5176\\1529826752.py:81: RuntimeWarning: invalid value encountered in log2\n",
      "  entropy = -np.sum(normalized_signal * np.log2(normalized_signal))\n"
     ]
    },
    {
     "name": "stdout",
     "output_type": "stream",
     "text": [
      "SVM Accuracy: 98.11320754716981\n",
      "\n",
      "Best Hyperparameters: {'n_neighbors': 3, 'weights': 'uniform'}\n",
      "KNN Accuracy: 94.33962264150944\n",
      "\n",
      "Best Hyperparameters: {'activation': 'relu', 'alpha': 0.0001, 'hidden_layer_sizes': (100, 100), 'learning_rate': 'adaptive', 'solver': 'adam'}\n",
      "MLP Accuracy: 100.0\n"
     ]
    },
    {
     "data": {
      "text/plain": [
       "100.0"
      ]
     },
     "execution_count": 26,
     "metadata": {},
     "output_type": "execute_result"
    }
   ],
   "source": [
    "# Split the data into features and labels\n",
    "X = df_sig25Hz.iloc[:, :-1]\n",
    "y = df_sig25Hz.iloc[:, -1]\n",
    "features = extract_features(X.values)\n",
    "X_train, X_test, y_train, y_test = train_test_split(features, y, test_size=0.2, random_state=42)\n",
    "svm_classification(X_train, y_train, X_test, y_test)\n",
    "knn_classification(X_train, y_train, X_test, y_test)\n",
    "mlp_classification(X_train, y_train, X_test, y_test)"
   ]
  },
  {
   "cell_type": "code",
   "execution_count": null,
   "metadata": {},
   "outputs": [
    {
     "name": "stderr",
     "output_type": "stream",
     "text": [
      "C:\\Users\\anne_\\AppData\\Local\\Temp\\ipykernel_5176\\1529826752.py:81: RuntimeWarning: invalid value encountered in log2\n",
      "  entropy = -np.sum(normalized_signal * np.log2(normalized_signal))\n"
     ]
    },
    {
     "name": "stdout",
     "output_type": "stream",
     "text": [
      "SVM Accuracy: 92.45283018867924\n",
      "\n",
      "Best Hyperparameters: {'n_neighbors': 5, 'weights': 'distance'}\n",
      "KNN Accuracy: 98.11320754716981\n",
      "\n",
      "Best Hyperparameters: {'activation': 'relu', 'alpha': 0.0001, 'hidden_layer_sizes': (100, 100), 'learning_rate': 'adaptive', 'solver': 'adam'}\n",
      "MLP Accuracy: 98.11320754716981\n"
     ]
    },
    {
     "data": {
      "text/plain": [
       "98.11320754716981"
      ]
     },
     "execution_count": 27,
     "metadata": {},
     "output_type": "execute_result"
    }
   ],
   "source": [
    "# Split the data into features and labels\n",
    "X = df_sig30Hz.iloc[:, :-1]\n",
    "y = df_sig30Hz.iloc[:, -1]\n",
    "features = extract_features(X.values)\n",
    "X_train, X_test, y_train, y_test = train_test_split(features, y, test_size=0.2, random_state=42)\n",
    "svm_classification(X_train, y_train, X_test, y_test)\n",
    "knn_classification(X_train, y_train, X_test, y_test)\n",
    "mlp_classification(X_train, y_train, X_test, y_test)"
   ]
  },
  {
   "cell_type": "code",
   "execution_count": null,
   "metadata": {},
   "outputs": [
    {
     "name": "stderr",
     "output_type": "stream",
     "text": [
      "c:\\Python311\\Lib\\site-packages\\sklearn\\decomposition\\_fastica.py:542: FutureWarning: Starting in v1.3, whiten='unit-variance' will be used by default.\n",
      "  warnings.warn(\n"
     ]
    },
    {
     "name": "stdout",
     "output_type": "stream",
     "text": [
      "Test Accuracy: 96.22641509433963\n"
     ]
    }
   ],
   "source": [
    "from sklearn.decomposition import FastICA\n",
    "from sklearn.neighbors import KNeighborsClassifier\n",
    "from sklearn.metrics import accuracy_score\n",
    "from sklearn.model_selection import train_test_split\n",
    "\n",
    "import numpy as np\n",
    "import pandas as pd\n",
    "\n",
    "# Load the data\n",
    "X = df_sig1Hz.iloc[:, :-1]\n",
    "y = df_sig1Hz.iloc[:, -1]\n",
    "\n",
    "# Apply FastICA to your data\n",
    "ica = FastICA(n_components=5)  # Specify the number of components you want to extract\n",
    "ica_data = ica.fit_transform(X)\n",
    "ica_columns = [f'ICA_Component_{i+1}' for i in range(ica_data.shape[1])]\n",
    "ica_df = pd.DataFrame(ica_data, columns=ica_columns)\n",
    "ica_df['target'] = y\n",
    "\n",
    "# Split the transformed data into features (X) and target (y)\n",
    "X_ica = ica_df.iloc[:, :-1]\n",
    "y_ica = ica_df.iloc[:, -1]\n",
    "\n",
    "# Perform train-test split\n",
    "X_train, X_test, y_train, y_test = train_test_split(X_ica, y_ica, test_size=0.2, random_state=42)\n",
    "\n",
    "# Create KNN classifier\n",
    "knn_classifier = KNeighborsClassifier()\n",
    "\n",
    "# Train the KNN classifier\n",
    "knn_classifier.fit(X_train, y_train)\n",
    "\n",
    "# Make predictions on the test set\n",
    "y_pred = knn_classifier.predict(X_test)\n",
    "\n",
    "# Calculate test accuracy\n",
    "test_accuracy = accuracy_score(y_test, y_pred) * 100\n",
    "print(\"Test Accuracy:\", test_accuracy)\n"
   ]
  },
  {
   "cell_type": "code",
   "execution_count": null,
   "metadata": {},
   "outputs": [
    {
     "ename": "NameError",
     "evalue": "name 'df' is not defined",
     "output_type": "error",
     "traceback": [
      "\u001b[1;31m---------------------------------------------------------------------------\u001b[0m",
      "\u001b[1;31mNameError\u001b[0m                                 Traceback (most recent call last)",
      "Cell \u001b[1;32mIn[29], line 4\u001b[0m\n\u001b[0;32m      1\u001b[0m fig, axes \u001b[39m=\u001b[39m plt\u001b[39m.\u001b[39msubplots(\u001b[39m22\u001b[39m, \u001b[39m1\u001b[39m, figsize \u001b[39m=\u001b[39m (\u001b[39m12\u001b[39m,\u001b[39m20\u001b[39m))\n\u001b[0;32m      3\u001b[0m \u001b[39mfor\u001b[39;00m i, ax \u001b[39min\u001b[39;00m \u001b[39menumerate\u001b[39m(axes\u001b[39m.\u001b[39mflatten()):\n\u001b[1;32m----> 4\u001b[0m     y \u001b[39m=\u001b[39m df\u001b[39m.\u001b[39miloc[\u001b[39m0\u001b[39m:\u001b[39m5120\u001b[39m,i]\u001b[39m.\u001b[39mvalues \n\u001b[0;32m      5\u001b[0m     \u001b[39m# y = y/1000 #volt y axis\u001b[39;00m\n\u001b[0;32m      6\u001b[0m     \u001b[39m# plt.ylim(-0.15, 0.3)\u001b[39;00m\n\u001b[0;32m      7\u001b[0m     ax\u001b[39m.\u001b[39mplot(y, color\u001b[39m=\u001b[39mplt\u001b[39m.\u001b[39mcm\u001b[39m.\u001b[39mPaired(i\u001b[39m/\u001b[39m\u001b[39m22.\u001b[39m), label\u001b[39m=\u001b[39melectrodes[i])\n",
      "\u001b[1;31mNameError\u001b[0m: name 'df' is not defined"
     ]
    },
    {
     "data": {
      "image/png": "[encoded data removed]",
      "text/plain": [
       "<Figure size 1200x2000 with 22 Axes>"
      ]
     },
     "metadata": {},
     "output_type": "display_data"
    }
   ],
   "source": [
    "fig, axes = plt.subplots(22, 1, figsize = (12,20))\n",
    "\n",
    "for i, ax in enumerate(axes.flatten()):\n",
    "    y = df.iloc[0:5120,i].values \n",
    "    # y = y/1000 #volt y axis\n",
    "    # plt.ylim(-0.15, 0.3)\n",
    "    ax.plot(y, color=plt.cm.Paired(i/22.), label=electrodes[i])\n",
    "    axes[i].set_ylabel('Amplitude')\n",
    "    # axes[i].set_label(electrodes[i])\n",
    "    plt.xlabel('Sample points')\n",
    "    axes[i].legend()\n",
    "\n",
    "plt.show() "
   ]
  }
 ],
 "metadata": {
  "kernelspec": {
   "display_name": "Python 3",
   "language": "python",
   "name": "python3"
  },
  "language_info": {
   "codemirror_mode": {
    "name": "ipython",
    "version": 3
   },
   "file_extension": ".py",
   "mimetype": "text/x-python",
   "name": "python",
   "nbconvert_exporter": "python",
   "pygments_lexer": "ipython3",
   "version": "3.11.3"
  },
  "orig_nbformat": 4
 },
 "nbformat": 4,
 "nbformat_minor": 2
}
