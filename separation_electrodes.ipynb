{
 "cells": [
  {
   "cell_type": "code",
   "execution_count": 1,
   "metadata": {},
   "outputs": [],
   "source": [
    "# the separation of each electrode data to separate folder\n",
    "import pandas as pd\n",
    "import glob"
   ]
  },
  {
   "cell_type": "code",
   "execution_count": 5,
   "metadata": {},
   "outputs": [],
   "source": [
    "path = 'Dataset\\CSV'\n",
    "files = glob.glob(path + \"/*csv\")"
   ]
  },
  {
   "cell_type": "code",
   "execution_count": 6,
   "metadata": {},
   "outputs": [],
   "source": [
    "def swap_col(df, c1, c2):\n",
    "    df['temp'] = df1[c1]\n",
    "    df[c1] = df1[c2]\n",
    "    df[c2] = df1['temp']\n",
    "    df.drop(columns=['temp'], inplace=True)\n",
    "    df.rename(columns={c1:c2, c2:c1}, inplace=True)"
   ]
  },
  {
   "cell_type": "code",
   "execution_count": 9,
   "metadata": {},
   "outputs": [],
   "source": [
    "fs = 256 #Hz\n",
    "T = 1/fs\n",
    "header = ['FP1', 'FP2', 'PG1', 'PG2', 'F7', 'F3', 'F2', 'F4', 'F8', 'C3', 'C2', 'C4', 'P3', 'P4', 'P2', 'T3', 'T4', 'T5', 'T6', 'O1', 'OZ', 'O2']\n",
    "num=0\n",
    "for file in sorted(files):\n",
    "    num = num+1\n",
    "    for i in range(0, len(header)):\n",
    "        df1 = pd.read_csv(file, usecols=[i])\n",
    "        row_length = df1.shape[0]\n",
    "        df = df1\n",
    "        time=[]\n",
    "        electrode = header[i]\n",
    "        for j in range(0, row_length):\n",
    "            val = (j)*T\n",
    "            time.append(val)\n",
    "        df[\"Time\"] = time\n",
    "        swap_col(df, electrode, 'Time')\n",
    "        df.to_csv(r'D:\\Anne\\Facultate\\licenta\\Dataset\\Output1\\C_'+str(i+1)+'\\s'+str(num)+'.csv', index=False)"
   ]
  }
 ],
 "metadata": {
  "kernelspec": {
   "display_name": "Python 3",
   "language": "python",
   "name": "python3"
  },
  "language_info": {
   "codemirror_mode": {
    "name": "ipython",
    "version": 3
   },
   "file_extension": ".py",
   "mimetype": "text/x-python",
   "name": "python",
   "nbconvert_exporter": "python",
   "pygments_lexer": "ipython3",
   "version": "3.11.3"
  },
  "orig_nbformat": 4
 },
 "nbformat": 4,
 "nbformat_minor": 2
}
